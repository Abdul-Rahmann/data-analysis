{
 "cells": [
  {
   "cell_type": "code",
   "id": "initial_id",
   "metadata": {
    "collapsed": true,
    "ExecuteTime": {
     "end_time": "2025-08-26T23:11:53.365419Z",
     "start_time": "2025-08-26T23:11:53.361793Z"
    }
   },
   "source": [
    "import pandas as pd\n",
    "import matplotlib.pyplot as plt\n",
    "import seaborn as sns"
   ],
   "outputs": [],
   "execution_count": 49
  },
  {
   "metadata": {},
   "cell_type": "markdown",
   "source": "#### Load and Explore Data",
   "id": "b87220af394bccab"
  },
  {
   "metadata": {
    "ExecuteTime": {
     "end_time": "2025-08-26T23:11:53.519179Z",
     "start_time": "2025-08-26T23:11:53.387767Z"
    }
   },
   "cell_type": "code",
   "source": [
    "df = pd.read_csv('data/netflix_movies_detailed_up_to_2025.csv')\n",
    "df.head()"
   ],
   "id": "e68dc2dc1ccb2d1",
   "outputs": [
    {
     "data": {
      "text/plain": [
       "   show_id   type                                         title  \\\n",
       "0    10192  Movie                           Shrek Forever After   \n",
       "1    27205  Movie                                     Inception   \n",
       "2    12444  Movie  Harry Potter and the Deathly Hallows: Part 1   \n",
       "3    38757  Movie                                       Tangled   \n",
       "4    10191  Movie                      How to Train Your Dragon   \n",
       "\n",
       "                      director  \\\n",
       "0                Mike Mitchell   \n",
       "1            Christopher Nolan   \n",
       "2                  David Yates   \n",
       "3   Byron Howard, Nathan Greno   \n",
       "4  Chris Sanders, Dean DeBlois   \n",
       "\n",
       "                                                cast  \\\n",
       "0  Mike Myers, Eddie Murphy, Cameron Diaz, Antoni...   \n",
       "1  Leonardo DiCaprio, Joseph Gordon-Levitt, Ken W...   \n",
       "2  Daniel Radcliffe, Emma Watson, Rupert Grint, T...   \n",
       "3  Mandy Moore, Zachary Levi, Donna Murphy, Ron P...   \n",
       "4  Jay Baruchel, Gerard Butler, Craig Ferguson, A...   \n",
       "\n",
       "                                    country  date_added  release_year  rating  \\\n",
       "0                  United States of America  2010-05-16          2010   6.380   \n",
       "1  United Kingdom, United States of America  2010-07-15          2010   8.369   \n",
       "2  United Kingdom, United States of America  2010-11-17          2010   7.744   \n",
       "3                  United States of America  2010-11-24          2010   7.600   \n",
       "4                  United States of America  2010-03-18          2010   7.800   \n",
       "\n",
       "   duration                                         genres language  \\\n",
       "0       NaN  Comedy, Adventure, Fantasy, Animation, Family       en   \n",
       "1       NaN             Action, Science Fiction, Adventure       en   \n",
       "2       NaN                             Adventure, Fantasy       en   \n",
       "3       NaN                   Animation, Family, Adventure       en   \n",
       "4       NaN          Fantasy, Adventure, Animation, Family       en   \n",
       "\n",
       "                                         description  popularity  vote_count  \\\n",
       "0  A bored and domesticated Shrek pacts with deal...     203.893        7449   \n",
       "1  Cobb, a skilled thief who commits corporate es...     156.242       37119   \n",
       "2  Harry, Ron and Hermione walk away from their l...     121.191       19327   \n",
       "3  Feisty teenager Rapunzel, who has long and mag...     111.762       11638   \n",
       "4  As the son of a Viking leader on the cusp of m...     110.044       13259   \n",
       "\n",
       "   vote_average     budget    revenue  \n",
       "0         6.380  165000000  752600867  \n",
       "1         8.369  160000000  839030630  \n",
       "2         7.744  250000000  954305868  \n",
       "3         7.600  260000000  592461732  \n",
       "4         7.800  165000000  494879471  "
      ],
      "text/html": [
       "<div>\n",
       "<style scoped>\n",
       "    .dataframe tbody tr th:only-of-type {\n",
       "        vertical-align: middle;\n",
       "    }\n",
       "\n",
       "    .dataframe tbody tr th {\n",
       "        vertical-align: top;\n",
       "    }\n",
       "\n",
       "    .dataframe thead th {\n",
       "        text-align: right;\n",
       "    }\n",
       "</style>\n",
       "<table border=\"1\" class=\"dataframe\">\n",
       "  <thead>\n",
       "    <tr style=\"text-align: right;\">\n",
       "      <th></th>\n",
       "      <th>show_id</th>\n",
       "      <th>type</th>\n",
       "      <th>title</th>\n",
       "      <th>director</th>\n",
       "      <th>cast</th>\n",
       "      <th>country</th>\n",
       "      <th>date_added</th>\n",
       "      <th>release_year</th>\n",
       "      <th>rating</th>\n",
       "      <th>duration</th>\n",
       "      <th>genres</th>\n",
       "      <th>language</th>\n",
       "      <th>description</th>\n",
       "      <th>popularity</th>\n",
       "      <th>vote_count</th>\n",
       "      <th>vote_average</th>\n",
       "      <th>budget</th>\n",
       "      <th>revenue</th>\n",
       "    </tr>\n",
       "  </thead>\n",
       "  <tbody>\n",
       "    <tr>\n",
       "      <th>0</th>\n",
       "      <td>10192</td>\n",
       "      <td>Movie</td>\n",
       "      <td>Shrek Forever After</td>\n",
       "      <td>Mike Mitchell</td>\n",
       "      <td>Mike Myers, Eddie Murphy, Cameron Diaz, Antoni...</td>\n",
       "      <td>United States of America</td>\n",
       "      <td>2010-05-16</td>\n",
       "      <td>2010</td>\n",
       "      <td>6.380</td>\n",
       "      <td>NaN</td>\n",
       "      <td>Comedy, Adventure, Fantasy, Animation, Family</td>\n",
       "      <td>en</td>\n",
       "      <td>A bored and domesticated Shrek pacts with deal...</td>\n",
       "      <td>203.893</td>\n",
       "      <td>7449</td>\n",
       "      <td>6.380</td>\n",
       "      <td>165000000</td>\n",
       "      <td>752600867</td>\n",
       "    </tr>\n",
       "    <tr>\n",
       "      <th>1</th>\n",
       "      <td>27205</td>\n",
       "      <td>Movie</td>\n",
       "      <td>Inception</td>\n",
       "      <td>Christopher Nolan</td>\n",
       "      <td>Leonardo DiCaprio, Joseph Gordon-Levitt, Ken W...</td>\n",
       "      <td>United Kingdom, United States of America</td>\n",
       "      <td>2010-07-15</td>\n",
       "      <td>2010</td>\n",
       "      <td>8.369</td>\n",
       "      <td>NaN</td>\n",
       "      <td>Action, Science Fiction, Adventure</td>\n",
       "      <td>en</td>\n",
       "      <td>Cobb, a skilled thief who commits corporate es...</td>\n",
       "      <td>156.242</td>\n",
       "      <td>37119</td>\n",
       "      <td>8.369</td>\n",
       "      <td>160000000</td>\n",
       "      <td>839030630</td>\n",
       "    </tr>\n",
       "    <tr>\n",
       "      <th>2</th>\n",
       "      <td>12444</td>\n",
       "      <td>Movie</td>\n",
       "      <td>Harry Potter and the Deathly Hallows: Part 1</td>\n",
       "      <td>David Yates</td>\n",
       "      <td>Daniel Radcliffe, Emma Watson, Rupert Grint, T...</td>\n",
       "      <td>United Kingdom, United States of America</td>\n",
       "      <td>2010-11-17</td>\n",
       "      <td>2010</td>\n",
       "      <td>7.744</td>\n",
       "      <td>NaN</td>\n",
       "      <td>Adventure, Fantasy</td>\n",
       "      <td>en</td>\n",
       "      <td>Harry, Ron and Hermione walk away from their l...</td>\n",
       "      <td>121.191</td>\n",
       "      <td>19327</td>\n",
       "      <td>7.744</td>\n",
       "      <td>250000000</td>\n",
       "      <td>954305868</td>\n",
       "    </tr>\n",
       "    <tr>\n",
       "      <th>3</th>\n",
       "      <td>38757</td>\n",
       "      <td>Movie</td>\n",
       "      <td>Tangled</td>\n",
       "      <td>Byron Howard, Nathan Greno</td>\n",
       "      <td>Mandy Moore, Zachary Levi, Donna Murphy, Ron P...</td>\n",
       "      <td>United States of America</td>\n",
       "      <td>2010-11-24</td>\n",
       "      <td>2010</td>\n",
       "      <td>7.600</td>\n",
       "      <td>NaN</td>\n",
       "      <td>Animation, Family, Adventure</td>\n",
       "      <td>en</td>\n",
       "      <td>Feisty teenager Rapunzel, who has long and mag...</td>\n",
       "      <td>111.762</td>\n",
       "      <td>11638</td>\n",
       "      <td>7.600</td>\n",
       "      <td>260000000</td>\n",
       "      <td>592461732</td>\n",
       "    </tr>\n",
       "    <tr>\n",
       "      <th>4</th>\n",
       "      <td>10191</td>\n",
       "      <td>Movie</td>\n",
       "      <td>How to Train Your Dragon</td>\n",
       "      <td>Chris Sanders, Dean DeBlois</td>\n",
       "      <td>Jay Baruchel, Gerard Butler, Craig Ferguson, A...</td>\n",
       "      <td>United States of America</td>\n",
       "      <td>2010-03-18</td>\n",
       "      <td>2010</td>\n",
       "      <td>7.800</td>\n",
       "      <td>NaN</td>\n",
       "      <td>Fantasy, Adventure, Animation, Family</td>\n",
       "      <td>en</td>\n",
       "      <td>As the son of a Viking leader on the cusp of m...</td>\n",
       "      <td>110.044</td>\n",
       "      <td>13259</td>\n",
       "      <td>7.800</td>\n",
       "      <td>165000000</td>\n",
       "      <td>494879471</td>\n",
       "    </tr>\n",
       "  </tbody>\n",
       "</table>\n",
       "</div>"
      ]
     },
     "execution_count": 50,
     "metadata": {},
     "output_type": "execute_result"
    }
   ],
   "execution_count": 50
  },
  {
   "metadata": {
    "ExecuteTime": {
     "end_time": "2025-08-26T23:11:53.584606Z",
     "start_time": "2025-08-26T23:11:53.566051Z"
    }
   },
   "cell_type": "code",
   "source": "df.describe()",
   "id": "571ebf0416725070",
   "outputs": [
    {
     "data": {
      "text/plain": [
       "            show_id  release_year        rating  duration    popularity  \\\n",
       "count  1.600000e+04  16000.000000  16000.000000       0.0  16000.000000   \n",
       "mean   5.266582e+05   2017.500000      5.956368       NaN     20.384728   \n",
       "std    3.794427e+05      4.609916      1.754741       NaN     68.610033   \n",
       "min    1.890000e+02   2010.000000      0.000000       NaN      3.860000   \n",
       "25%    2.257258e+05   2013.750000      5.600000       NaN      7.840750   \n",
       "50%    4.468170e+05   2017.500000      6.300000       NaN     10.913500   \n",
       "75%    7.739808e+05   2021.250000      6.923000       NaN     17.336500   \n",
       "max    1.440471e+06   2025.000000     10.000000       NaN   3876.006000   \n",
       "\n",
       "         vote_count  vote_average        budget       revenue  \n",
       "count  16000.000000  16000.000000  1.600000e+04  1.600000e+04  \n",
       "mean     718.656125      5.956368  8.766792e+06  2.446308e+07  \n",
       "std     2080.198316      1.754741  2.912450e+07  1.116977e+08  \n",
       "min        0.000000      0.000000  0.000000e+00  0.000000e+00  \n",
       "25%       53.000000      5.600000  0.000000e+00  0.000000e+00  \n",
       "50%      138.000000      6.300000  0.000000e+00  0.000000e+00  \n",
       "75%      422.000000      6.923000  2.200000e+06  1.654473e+06  \n",
       "max    37119.000000     10.000000  4.600000e+08  2.799439e+09  "
      ],
      "text/html": [
       "<div>\n",
       "<style scoped>\n",
       "    .dataframe tbody tr th:only-of-type {\n",
       "        vertical-align: middle;\n",
       "    }\n",
       "\n",
       "    .dataframe tbody tr th {\n",
       "        vertical-align: top;\n",
       "    }\n",
       "\n",
       "    .dataframe thead th {\n",
       "        text-align: right;\n",
       "    }\n",
       "</style>\n",
       "<table border=\"1\" class=\"dataframe\">\n",
       "  <thead>\n",
       "    <tr style=\"text-align: right;\">\n",
       "      <th></th>\n",
       "      <th>show_id</th>\n",
       "      <th>release_year</th>\n",
       "      <th>rating</th>\n",
       "      <th>duration</th>\n",
       "      <th>popularity</th>\n",
       "      <th>vote_count</th>\n",
       "      <th>vote_average</th>\n",
       "      <th>budget</th>\n",
       "      <th>revenue</th>\n",
       "    </tr>\n",
       "  </thead>\n",
       "  <tbody>\n",
       "    <tr>\n",
       "      <th>count</th>\n",
       "      <td>1.600000e+04</td>\n",
       "      <td>16000.000000</td>\n",
       "      <td>16000.000000</td>\n",
       "      <td>0.0</td>\n",
       "      <td>16000.000000</td>\n",
       "      <td>16000.000000</td>\n",
       "      <td>16000.000000</td>\n",
       "      <td>1.600000e+04</td>\n",
       "      <td>1.600000e+04</td>\n",
       "    </tr>\n",
       "    <tr>\n",
       "      <th>mean</th>\n",
       "      <td>5.266582e+05</td>\n",
       "      <td>2017.500000</td>\n",
       "      <td>5.956368</td>\n",
       "      <td>NaN</td>\n",
       "      <td>20.384728</td>\n",
       "      <td>718.656125</td>\n",
       "      <td>5.956368</td>\n",
       "      <td>8.766792e+06</td>\n",
       "      <td>2.446308e+07</td>\n",
       "    </tr>\n",
       "    <tr>\n",
       "      <th>std</th>\n",
       "      <td>3.794427e+05</td>\n",
       "      <td>4.609916</td>\n",
       "      <td>1.754741</td>\n",
       "      <td>NaN</td>\n",
       "      <td>68.610033</td>\n",
       "      <td>2080.198316</td>\n",
       "      <td>1.754741</td>\n",
       "      <td>2.912450e+07</td>\n",
       "      <td>1.116977e+08</td>\n",
       "    </tr>\n",
       "    <tr>\n",
       "      <th>min</th>\n",
       "      <td>1.890000e+02</td>\n",
       "      <td>2010.000000</td>\n",
       "      <td>0.000000</td>\n",
       "      <td>NaN</td>\n",
       "      <td>3.860000</td>\n",
       "      <td>0.000000</td>\n",
       "      <td>0.000000</td>\n",
       "      <td>0.000000e+00</td>\n",
       "      <td>0.000000e+00</td>\n",
       "    </tr>\n",
       "    <tr>\n",
       "      <th>25%</th>\n",
       "      <td>2.257258e+05</td>\n",
       "      <td>2013.750000</td>\n",
       "      <td>5.600000</td>\n",
       "      <td>NaN</td>\n",
       "      <td>7.840750</td>\n",
       "      <td>53.000000</td>\n",
       "      <td>5.600000</td>\n",
       "      <td>0.000000e+00</td>\n",
       "      <td>0.000000e+00</td>\n",
       "    </tr>\n",
       "    <tr>\n",
       "      <th>50%</th>\n",
       "      <td>4.468170e+05</td>\n",
       "      <td>2017.500000</td>\n",
       "      <td>6.300000</td>\n",
       "      <td>NaN</td>\n",
       "      <td>10.913500</td>\n",
       "      <td>138.000000</td>\n",
       "      <td>6.300000</td>\n",
       "      <td>0.000000e+00</td>\n",
       "      <td>0.000000e+00</td>\n",
       "    </tr>\n",
       "    <tr>\n",
       "      <th>75%</th>\n",
       "      <td>7.739808e+05</td>\n",
       "      <td>2021.250000</td>\n",
       "      <td>6.923000</td>\n",
       "      <td>NaN</td>\n",
       "      <td>17.336500</td>\n",
       "      <td>422.000000</td>\n",
       "      <td>6.923000</td>\n",
       "      <td>2.200000e+06</td>\n",
       "      <td>1.654473e+06</td>\n",
       "    </tr>\n",
       "    <tr>\n",
       "      <th>max</th>\n",
       "      <td>1.440471e+06</td>\n",
       "      <td>2025.000000</td>\n",
       "      <td>10.000000</td>\n",
       "      <td>NaN</td>\n",
       "      <td>3876.006000</td>\n",
       "      <td>37119.000000</td>\n",
       "      <td>10.000000</td>\n",
       "      <td>4.600000e+08</td>\n",
       "      <td>2.799439e+09</td>\n",
       "    </tr>\n",
       "  </tbody>\n",
       "</table>\n",
       "</div>"
      ]
     },
     "execution_count": 51,
     "metadata": {},
     "output_type": "execute_result"
    }
   ],
   "execution_count": 51
  },
  {
   "metadata": {
    "ExecuteTime": {
     "end_time": "2025-08-26T23:11:53.657902Z",
     "start_time": "2025-08-26T23:11:53.654052Z"
    }
   },
   "cell_type": "code",
   "source": "df.shape",
   "id": "ca3498607c10d426",
   "outputs": [
    {
     "data": {
      "text/plain": [
       "(16000, 18)"
      ]
     },
     "execution_count": 52,
     "metadata": {},
     "output_type": "execute_result"
    }
   ],
   "execution_count": 52
  },
  {
   "metadata": {
    "ExecuteTime": {
     "end_time": "2025-08-26T23:11:53.747624Z",
     "start_time": "2025-08-26T23:11:53.745113Z"
    }
   },
   "cell_type": "code",
   "source": "df.columns.tolist()",
   "id": "ae2d06005bd802b2",
   "outputs": [
    {
     "data": {
      "text/plain": [
       "['show_id',\n",
       " 'type',\n",
       " 'title',\n",
       " 'director',\n",
       " 'cast',\n",
       " 'country',\n",
       " 'date_added',\n",
       " 'release_year',\n",
       " 'rating',\n",
       " 'duration',\n",
       " 'genres',\n",
       " 'language',\n",
       " 'description',\n",
       " 'popularity',\n",
       " 'vote_count',\n",
       " 'vote_average',\n",
       " 'budget',\n",
       " 'revenue']"
      ]
     },
     "execution_count": 53,
     "metadata": {},
     "output_type": "execute_result"
    }
   ],
   "execution_count": 53
  },
  {
   "metadata": {
    "ExecuteTime": {
     "end_time": "2025-08-26T23:11:53.809772Z",
     "start_time": "2025-08-26T23:11:53.796588Z"
    }
   },
   "cell_type": "code",
   "source": "df.info()",
   "id": "d974cdb334be8ddd",
   "outputs": [
    {
     "name": "stdout",
     "output_type": "stream",
     "text": [
      "<class 'pandas.core.frame.DataFrame'>\n",
      "RangeIndex: 16000 entries, 0 to 15999\n",
      "Data columns (total 18 columns):\n",
      " #   Column        Non-Null Count  Dtype  \n",
      "---  ------        --------------  -----  \n",
      " 0   show_id       16000 non-null  int64  \n",
      " 1   type          16000 non-null  object \n",
      " 2   title         16000 non-null  object \n",
      " 3   director      15868 non-null  object \n",
      " 4   cast          15796 non-null  object \n",
      " 5   country       15534 non-null  object \n",
      " 6   date_added    16000 non-null  object \n",
      " 7   release_year  16000 non-null  int64  \n",
      " 8   rating        16000 non-null  float64\n",
      " 9   duration      0 non-null      float64\n",
      " 10  genres        15893 non-null  object \n",
      " 11  language      16000 non-null  object \n",
      " 12  description   15868 non-null  object \n",
      " 13  popularity    16000 non-null  float64\n",
      " 14  vote_count    16000 non-null  int64  \n",
      " 15  vote_average  16000 non-null  float64\n",
      " 16  budget        16000 non-null  int64  \n",
      " 17  revenue       16000 non-null  int64  \n",
      "dtypes: float64(4), int64(5), object(9)\n",
      "memory usage: 2.2+ MB\n"
     ]
    }
   ],
   "execution_count": 54
  },
  {
   "metadata": {
    "ExecuteTime": {
     "end_time": "2025-08-26T23:11:53.846749Z",
     "start_time": "2025-08-26T23:11:53.837968Z"
    }
   },
   "cell_type": "code",
   "source": [
    "missing_data = df.isna().sum()\n",
    "missing_percentage = missing_data / len(df) * 100\n",
    "missing_df = pd.DataFrame({\n",
    "    'Missing Count': missing_data,\n",
    "    'Percentage': missing_percentage\n",
    "}).sort_values(by='Missing Count', ascending=False)\n",
    "missing_df[missing_df['Missing Count'] > 0]"
   ],
   "id": "4d80a115c88cd456",
   "outputs": [
    {
     "data": {
      "text/plain": [
       "             Missing Count  Percentage\n",
       "duration             16000   100.00000\n",
       "country                466     2.91250\n",
       "cast                   204     1.27500\n",
       "director               132     0.82500\n",
       "description            132     0.82500\n",
       "genres                 107     0.66875"
      ],
      "text/html": [
       "<div>\n",
       "<style scoped>\n",
       "    .dataframe tbody tr th:only-of-type {\n",
       "        vertical-align: middle;\n",
       "    }\n",
       "\n",
       "    .dataframe tbody tr th {\n",
       "        vertical-align: top;\n",
       "    }\n",
       "\n",
       "    .dataframe thead th {\n",
       "        text-align: right;\n",
       "    }\n",
       "</style>\n",
       "<table border=\"1\" class=\"dataframe\">\n",
       "  <thead>\n",
       "    <tr style=\"text-align: right;\">\n",
       "      <th></th>\n",
       "      <th>Missing Count</th>\n",
       "      <th>Percentage</th>\n",
       "    </tr>\n",
       "  </thead>\n",
       "  <tbody>\n",
       "    <tr>\n",
       "      <th>duration</th>\n",
       "      <td>16000</td>\n",
       "      <td>100.00000</td>\n",
       "    </tr>\n",
       "    <tr>\n",
       "      <th>country</th>\n",
       "      <td>466</td>\n",
       "      <td>2.91250</td>\n",
       "    </tr>\n",
       "    <tr>\n",
       "      <th>cast</th>\n",
       "      <td>204</td>\n",
       "      <td>1.27500</td>\n",
       "    </tr>\n",
       "    <tr>\n",
       "      <th>director</th>\n",
       "      <td>132</td>\n",
       "      <td>0.82500</td>\n",
       "    </tr>\n",
       "    <tr>\n",
       "      <th>description</th>\n",
       "      <td>132</td>\n",
       "      <td>0.82500</td>\n",
       "    </tr>\n",
       "    <tr>\n",
       "      <th>genres</th>\n",
       "      <td>107</td>\n",
       "      <td>0.66875</td>\n",
       "    </tr>\n",
       "  </tbody>\n",
       "</table>\n",
       "</div>"
      ]
     },
     "execution_count": 55,
     "metadata": {},
     "output_type": "execute_result"
    }
   ],
   "execution_count": 55
  },
  {
   "metadata": {},
   "cell_type": "markdown",
   "source": "#### Cleaning and Preparation",
   "id": "fc94d950db4c30ec"
  },
  {
   "metadata": {
    "ExecuteTime": {
     "end_time": "2025-08-26T23:11:53.891244Z",
     "start_time": "2025-08-26T23:11:53.877742Z"
    }
   },
   "cell_type": "code",
   "source": "df_clean = df.copy()",
   "id": "15d83ed20e5fe709",
   "outputs": [],
   "execution_count": 56
  },
  {
   "metadata": {
    "ExecuteTime": {
     "end_time": "2025-08-26T23:11:53.953405Z",
     "start_time": "2025-08-26T23:11:53.936418Z"
    }
   },
   "cell_type": "code",
   "source": [
    "# df.columns\n",
    "if 'date_added' in df_clean.columns:\n",
    "    df_clean['date_added'] = pd.to_datetime(df_clean['date_added'], errors='coerce')\n",
    "    df_clean['year_added'] = df_clean['date_added'].dt.year\n",
    "    df_clean['month_added'] = df_clean['date_added'].dt.month\n",
    "    print(\"Processed date_added column\")"
   ],
   "id": "27584a365f95ede6",
   "outputs": [
    {
     "name": "stdout",
     "output_type": "stream",
     "text": [
      "Processed date_added column\n"
     ]
    }
   ],
   "execution_count": 57
  },
  {
   "metadata": {
    "ExecuteTime": {
     "end_time": "2025-08-26T23:11:53.996556Z",
     "start_time": "2025-08-26T23:11:53.988848Z"
    }
   },
   "cell_type": "code",
   "source": [
    "if 'release_year' in df_clean.columns:\n",
    "    df_clean['release_year'] = pd.to_numeric(df_clean['release_year'], errors='coerce')\n",
    "    df_clean = df_clean[(df_clean['release_year'] >= 1900) & (df_clean['release_year'] <= 2025)]\n",
    "    print(\"Cleaned release_year column\")"
   ],
   "id": "b69c7566dee2b2b5",
   "outputs": [
    {
     "name": "stdout",
     "output_type": "stream",
     "text": [
      "Cleaned release_year column\n"
     ]
    }
   ],
   "execution_count": 58
  },
  {
   "metadata": {
    "ExecuteTime": {
     "end_time": "2025-08-26T23:11:54.046753Z",
     "start_time": "2025-08-26T23:11:54.034239Z"
    }
   },
   "cell_type": "code",
   "source": [
    "# if 'duration' in df_clean.columns:\n",
    "#     df_clean['duration_num'] = df_clean['duration'].str.extract('(\\d+)').astype(float)\n",
    "#     df_clean['duration_type'] = df_clean['duration'].str.extract('(min|Season)')\n",
    "#     print(\"Processed duration column\")\n",
    "\n",
    "# All the duration columns are null"
   ],
   "id": "6199596d398e288",
   "outputs": [],
   "execution_count": 59
  },
  {
   "metadata": {
    "ExecuteTime": {
     "end_time": "2025-08-26T23:11:54.084327Z",
     "start_time": "2025-08-26T23:11:54.076073Z"
    }
   },
   "cell_type": "code",
   "source": "df_clean['country'].str.split(',')[0][0].strip()",
   "id": "c47799d0af97d18c",
   "outputs": [
    {
     "data": {
      "text/plain": [
       "'United States of America'"
      ]
     },
     "execution_count": 60,
     "metadata": {},
     "output_type": "execute_result"
    }
   ],
   "execution_count": 60
  },
  {
   "metadata": {
    "ExecuteTime": {
     "end_time": "2025-08-26T23:11:54.109020Z",
     "start_time": "2025-08-26T23:11:54.103160Z"
    }
   },
   "cell_type": "code",
   "source": [
    "if 'country' in df_clean.columns:\n",
    "    df_clean['primary_country'] = df_clean['country'].str.split(',')[0][0].strip()\n",
    "    print(\"Processed country column\")"
   ],
   "id": "edfb0c13058d0b8",
   "outputs": [
    {
     "name": "stdout",
     "output_type": "stream",
     "text": [
      "Processed country column\n"
     ]
    }
   ],
   "execution_count": 61
  },
  {
   "metadata": {
    "ExecuteTime": {
     "end_time": "2025-08-26T23:11:54.132189Z",
     "start_time": "2025-08-26T23:11:54.130138Z"
    }
   },
   "cell_type": "code",
   "source": [
    "if 'listed_in' in df_clean.columns:\n",
    "    print(\"Processed genres column\")\n",
    "    df_clean['primary_genre'] = df_clean['listed_in'].str.split(',')[0].str.strip()\n"
   ],
   "id": "437ddc4fd569c96e",
   "outputs": [],
   "execution_count": 62
  },
  {
   "metadata": {
    "ExecuteTime": {
     "end_time": "2025-08-26T23:11:54.315261Z",
     "start_time": "2025-08-26T23:11:54.162925Z"
    }
   },
   "cell_type": "code",
   "source": "df_clean.to_csv('data/netflix_movies_detailed_up_to_2025_clean.csv', index=False)",
   "id": "fbb87c09ca4e4604",
   "outputs": [],
   "execution_count": 63
  },
  {
   "metadata": {},
   "cell_type": "markdown",
   "source": "#### Performing EDA",
   "id": "7b5717488478fa05"
  },
  {
   "metadata": {
    "ExecuteTime": {
     "end_time": "2025-08-26T23:11:54.330360Z",
     "start_time": "2025-08-26T23:11:54.326419Z"
    }
   },
   "cell_type": "code",
   "source": "df = df_clean.copy()",
   "id": "5e6d8ec2f0961264",
   "outputs": [],
   "execution_count": 64
  },
  {
   "metadata": {
    "ExecuteTime": {
     "end_time": "2025-08-26T23:11:54.355089Z",
     "start_time": "2025-08-26T23:11:54.351054Z"
    }
   },
   "cell_type": "code",
   "source": "df.columns.tolist()",
   "id": "c1f0a1856baaeeea",
   "outputs": [
    {
     "data": {
      "text/plain": [
       "['show_id',\n",
       " 'type',\n",
       " 'title',\n",
       " 'director',\n",
       " 'cast',\n",
       " 'country',\n",
       " 'date_added',\n",
       " 'release_year',\n",
       " 'rating',\n",
       " 'duration',\n",
       " 'genres',\n",
       " 'language',\n",
       " 'description',\n",
       " 'popularity',\n",
       " 'vote_count',\n",
       " 'vote_average',\n",
       " 'budget',\n",
       " 'revenue',\n",
       " 'year_added',\n",
       " 'month_added',\n",
       " 'primary_country']"
      ]
     },
     "execution_count": 65,
     "metadata": {},
     "output_type": "execute_result"
    }
   ],
   "execution_count": 65
  },
  {
   "metadata": {
    "ExecuteTime": {
     "end_time": "2025-08-26T23:11:54.391491Z",
     "start_time": "2025-08-26T23:11:54.388169Z"
    }
   },
   "cell_type": "code",
   "source": [
    "if 'type' in df.columns:\n",
    "    print('Content Type Distribution:')\n",
    "    type_counts = df['type'].value_counts()\n",
    "    print(type_counts)\n",
    "    print(f\"Movies: {type_counts.get('Movie', 0) / len(df) * 100:.1f}\")"
   ],
   "id": "61a272551b0dc30a",
   "outputs": [
    {
     "name": "stdout",
     "output_type": "stream",
     "text": [
      "Content Type Distribution:\n",
      "type\n",
      "Movie    16000\n",
      "Name: count, dtype: int64\n",
      "Movies: 100.0\n"
     ]
    }
   ],
   "execution_count": 66
  },
  {
   "metadata": {
    "ExecuteTime": {
     "end_time": "2025-08-26T23:11:54.420318Z",
     "start_time": "2025-08-26T23:11:54.416249Z"
    }
   },
   "cell_type": "code",
   "source": [
    "if 'release_year' in df.columns:\n",
    "    print('Release Year Statistics:')\n",
    "    print(f\"Oldest content: {df['release_year'].min()}\")\n",
    "    print(f\"Newest content: {df['release_year'].max()}\"\n",
    "    \"\")\n",
    "    print(f\"Most common decade: {(df['release_year'] // 10 * 10).mode().iloc[0]}s\")\n"
   ],
   "id": "49e6dcdd7f37af37",
   "outputs": [
    {
     "name": "stdout",
     "output_type": "stream",
     "text": [
      "Release Year Statistics:\n",
      "Oldest content: 2010\n",
      "Newest content: 2025\n",
      "Most common decade: 2010s\n"
     ]
    }
   ],
   "execution_count": 67
  },
  {
   "metadata": {
    "ExecuteTime": {
     "end_time": "2025-08-26T23:11:54.467944Z",
     "start_time": "2025-08-26T23:11:54.464920Z"
    }
   },
   "cell_type": "code",
   "source": [
    "if 'year_added' in df.columns:\n",
    "    print('Content Addition by Year:')\n",
    "    yearly_additions = df['year_added'].value_counts().sort_index()\n",
    "    print(yearly_additions.tail(5))"
   ],
   "id": "11b4f5436b308f8c",
   "outputs": [
    {
     "name": "stdout",
     "output_type": "stream",
     "text": [
      "Content Addition by Year:\n",
      "year_added\n",
      "2021    1000\n",
      "2022    1000\n",
      "2023    1000\n",
      "2024    1000\n",
      "2025    1000\n",
      "Name: count, dtype: int64\n"
     ]
    }
   ],
   "execution_count": 68
  },
  {
   "metadata": {
    "ExecuteTime": {
     "end_time": "2025-08-26T23:11:54.492321Z",
     "start_time": "2025-08-26T23:11:54.489395Z"
    }
   },
   "cell_type": "code",
   "source": [
    "if 'primary_country' in df.columns:\n",
    "    print('Top Content-Producing Countries:')\n",
    "    top_countries = df['primary_country'].value_counts().head(10)\n",
    "    print(top_countries)"
   ],
   "id": "cf57f159ef2a19b7",
   "outputs": [
    {
     "name": "stdout",
     "output_type": "stream",
     "text": [
      "Top Content-Producing Countries:\n",
      "primary_country\n",
      "United States of America    16000\n",
      "Name: count, dtype: int64\n"
     ]
    }
   ],
   "execution_count": 69
  },
  {
   "metadata": {
    "ExecuteTime": {
     "end_time": "2025-08-26T23:11:54.517124Z",
     "start_time": "2025-08-26T23:11:54.514919Z"
    }
   },
   "cell_type": "code",
   "source": [
    "if 'primary_genre' in df.columns:\n",
    "    print('Most Popular Genres:')\n",
    "    top_genres = df['primary_genre'].value_counts().head(10)\n",
    "    print(top_genres)"
   ],
   "id": "5454833dea3b3fa6",
   "outputs": [],
   "execution_count": 70
  },
  {
   "metadata": {
    "ExecuteTime": {
     "end_time": "2025-08-26T23:11:54.533740Z",
     "start_time": "2025-08-26T23:11:54.531234Z"
    }
   },
   "cell_type": "code",
   "source": "df.columns",
   "id": "64ca39e983130d82",
   "outputs": [
    {
     "data": {
      "text/plain": [
       "Index(['show_id', 'type', 'title', 'director', 'cast', 'country', 'date_added',\n",
       "       'release_year', 'rating', 'duration', 'genres', 'language',\n",
       "       'description', 'popularity', 'vote_count', 'vote_average', 'budget',\n",
       "       'revenue', 'year_added', 'month_added', 'primary_country'],\n",
       "      dtype='object')"
      ]
     },
     "execution_count": 71,
     "metadata": {},
     "output_type": "execute_result"
    }
   ],
   "execution_count": 71
  },
  {
   "metadata": {},
   "cell_type": "markdown",
   "source": "#### Advanced Analysis",
   "id": "b944c542b2cc6269"
  },
  {
   "metadata": {
    "ExecuteTime": {
     "end_time": "2025-08-26T23:15:52.436078Z",
     "start_time": "2025-08-26T23:15:52.394369Z"
    }
   },
   "cell_type": "code",
   "source": [
    "if 'year_added' in df.columns and 'type' in df.columns:\n",
    "    print(\"Analysis 1: Content Strategy Over Time\")\n",
    "    content_by_year_type = df.groupby(['year_added','type']).size().unstack(fill_value=0)\n",
    "    print(\"How Netflix's movie vs TV show additions have changed:\")\n",
    "    if len(content_by_year_type) > 3:\n",
    "        recent_years = content_by_year_type.tail(3)\n",
    "        print(recent_years)"
   ],
   "id": "6dd26609b77bd79b",
   "outputs": [
    {
     "name": "stdout",
     "output_type": "stream",
     "text": [
      "Analysis 1: Content Strategy Over Time\n",
      "How Netflix's movie vs TV show additions have changed:\n",
      "type        Movie\n",
      "year_added       \n",
      "2023         1000\n",
      "2024         1000\n",
      "2025         1000\n"
     ]
    }
   ],
   "execution_count": 72
  },
  {
   "metadata": {
    "ExecuteTime": {
     "end_time": "2025-08-26T23:18:27.859039Z",
     "start_time": "2025-08-26T23:18:27.847518Z"
    }
   },
   "cell_type": "code",
   "source": [
    "if 'primary_country' in df.columns:\n",
    "    print(\"Analysis 2: Geographic Content Distribution\")\n",
    "    us_content = len(df[df['primary_country'] == 'United Stated'])\n",
    "    total_content = len(df)\n",
    "    international_pct = (1 - us_content / total_content) * 100\n",
    "    print(f\"International content: {international_pct:.1f}%\")\n",
    "    print(f\"US content: {100 - international_pct:.1f}%\")"
   ],
   "id": "ea55046bbdf891e6",
   "outputs": [
    {
     "name": "stdout",
     "output_type": "stream",
     "text": [
      "Analysis 2: Geographic Content Distribution\n",
      "International content: 100.0%\n",
      "US content: 0.0%\n"
     ]
    }
   ],
   "execution_count": 73
  },
  {
   "metadata": {
    "ExecuteTime": {
     "end_time": "2025-08-26T23:18:48.045712Z",
     "start_time": "2025-08-26T23:18:48.030360Z"
    }
   },
   "cell_type": "code",
   "source": [
    "    if 'primary_genre' in df.columns and 'type' in df.columns:\n",
    "        print(\"\\n🎭 Analysis 3: Genre Preferences by Content Type\")\n",
    "        genre_by_type = df.groupby(['type', 'primary_genre']).size().unstack(fill_value=0)\n",
    "        print(\"Top genres for each content type:\")\n",
    "\n",
    "        if 'Movie' in df['type'].values:\n",
    "            movie_genres = df[df['type'] == 'Movie']['primary_genre'].value_counts().head(3)\n",
    "            print(\"Top Movie Genres:\", list(movie_genres.index))\n",
    "\n",
    "        if 'TV Show' in df['type'].values:\n",
    "            tv_genres = df[df['type'] == 'TV Show']['primary_genre'].value_counts().head(3)\n",
    "            print(\"Top TV Genres:\", list(tv_genres.index))"
   ],
   "id": "d3b028b4d24f80c2",
   "outputs": [],
   "execution_count": 74
  },
  {
   "metadata": {},
   "cell_type": "markdown",
   "source": "#### Creating Visualizations",
   "id": "8eed9e0a0d9e337a"
  },
  {
   "metadata": {
    "ExecuteTime": {
     "end_time": "2025-08-26T23:30:57.452578Z",
     "start_time": "2025-08-26T23:30:57.225800Z"
    }
   },
   "cell_type": "code",
   "source": [
    "fig = plt.figure(figsize=(20, 16))\n",
    "\n",
    "if 'type' in df.columns:\n",
    "    plt.subplot(2, 3, 1)\n",
    "    type_counts = df['type'].value_counts()\n",
    "    plt.pie(type_counts.values, labels=type_counts.index, autopct='%1.1f%%')\n",
    "    plt.title('Netflix Content')"
   ],
   "id": "c24a41b8088ecb4",
   "outputs": [
    {
     "data": {
      "text/plain": [
       "<Figure size 2000x1600 with 1 Axes>"
      ],
      "image/png": "[encoded data removed]"
     },
     "metadata": {},
     "output_type": "display_data"
    }
   ],
   "execution_count": 75
  },
  {
   "metadata": {
    "ExecuteTime": {
     "end_time": "2025-08-26T23:34:08.627760Z",
     "start_time": "2025-08-26T23:34:08.529412Z"
    }
   },
   "cell_type": "code",
   "source": [
    "plt.figure(figsize=(20, 16))\n",
    "if 'year_added' in df.columns:\n",
    "    plt.subplot(2, 3, 2)\n",
    "    yearly_additions = df['year_added'].value_counts().sort_index()\n",
    "    plt.plot(yearly_additions.index, yearly_additions.values, marker='o', linewidth=3)\n",
    "    plt.title('Content Added to Netflix by Year')\n",
    "    plt.xlabel('Year')\n",
    "    plt.ylabel('Number of Additions')"
   ],
   "id": "ad4389bfe4cfad22",
   "outputs": [
    {
     "data": {
      "text/plain": [
       "<Figure size 2000x1600 with 1 Axes>"
      ],
      "image/png": "[encoded data removed]"
     },
     "metadata": {},
     "output_type": "display_data"
    }
   ],
   "execution_count": 77
  },
  {
   "metadata": {
    "ExecuteTime": {
     "end_time": "2025-08-26T23:41:20.164560Z",
     "start_time": "2025-08-26T23:41:20.087040Z"
    }
   },
   "cell_type": "code",
   "source": [
    "plt.figure(figsize=(20, 16))\n",
    "if 'primary_country' in df.columns:\n",
    "    plt.subplot(2, 3, 3)\n",
    "    top_countries = df['primary_country'].value_counts().head(10)\n",
    "    plt.barh(range(len(top_countries)), top_countries.values, align='center')\n",
    "    plt.yticks(range(len(top_countries)), top_countries.index)\n",
    "    plt.title('Top Content-Producing Countries')"
   ],
   "id": "9dbc8ded49f106df",
   "outputs": [
    {
     "data": {
      "text/plain": [
       "<Figure size 2000x1600 with 1 Axes>"
      ],
      "image/png": "[encoded data removed]"
     },
     "metadata": {},
     "output_type": "display_data"
    }
   ],
   "execution_count": 79
  },
  {
   "metadata": {
    "ExecuteTime": {
     "end_time": "2025-08-26T23:44:16.506312Z",
     "start_time": "2025-08-26T23:44:16.419123Z"
    }
   },
   "cell_type": "code",
   "source": [
    "plt.figure(figsize=(20, 16))\n",
    "if 'release_year' in df.columns:\n",
    "    plt.subplot(2, 3, 4)\n",
    "    plt.hist(df['release_year'], bins=30, alpha=0.7, edgecolor='black')\n",
    "    plt.title('Distribution of Content by Release Year', fontsize=14, fontweight='bold')\n",
    "    plt.xlabel('Release Year')\n",
    "    plt.ylabel('Number of Content')"
   ],
   "id": "49891040dc3986ab",
   "outputs": [
    {
     "data": {
      "text/plain": [
       "<Figure size 2000x1600 with 1 Axes>"
      ],
      "image/png": "[encoded data removed]"
     },
     "metadata": {},
     "output_type": "display_data"
    }
   ],
   "execution_count": 81
  },
  {
   "metadata": {
    "ExecuteTime": {
     "end_time": "2025-08-26T23:44:32.335806Z",
     "start_time": "2025-08-26T23:44:32.316821Z"
    }
   },
   "cell_type": "code",
   "source": [
    "print(\"\\n💡 STEP 6: KEY INSIGHTS & RECOMMENDATIONS\")\n",
    "    print(\"-\" * 50)\n",
    "\n",
    "    insights = []\n",
    "    recommendations = []\n",
    "\n",
    "    # Content mix insights\n",
    "    if 'type' in df.columns:\n",
    "        movie_pct = (df['type'] == 'Movie').mean() * 100\n",
    "        if movie_pct > 60:\n",
    "            insights.append(f\"Movies dominate Netflix catalog ({movie_pct:.1f}%)\")\n",
    "            recommendations.append(\"Consider expanding TV show offerings for binge-watching audience\")\n",
    "        else:\n",
    "            insights.append(f\"Balanced content mix with {movie_pct:.1f}% movies\")\n",
    "\n",
    "    # Geographic diversity\n",
    "    if 'primary_country' in df.columns:\n",
    "        us_pct = (df['primary_country'] == 'United States').mean() * 100\n",
    "        if us_pct > 50:\n",
    "            insights.append(f\"US-heavy content ({us_pct:.1f}%)\")\n",
    "            recommendations.append(\"Expand international content to serve global audience\")\n",
    "        else:\n",
    "            insights.append(f\"Strong international presence ({100 - us_pct:.1f}% non-US)\")\n",
    "\n",
    "    # Content freshness\n",
    "    if 'release_year' in df.columns:\n",
    "        recent_content = (df['release_year'] >= 2015).mean() * 100\n",
    "        insights.append(f\"{recent_content:.1f}% of content from 2015 or later\")\n",
    "        if recent_content < 60:\n",
    "            recommendations.append(\"Focus on acquiring more recent content\")\n",
    "\n",
    "    # Print insights\n",
    "    print(\"🔍 KEY INSIGHTS:\")\n",
    "    for i, insight in enumerate(insights, 1):\n",
    "        print(f\"{i}. {insight}\")\n",
    "\n",
    "    print(\"\\n💼 BUSINESS RECOMMENDATIONS:\")\n",
    "    for i, rec in enumerate(recommendations, 1):\n",
    "        print(f\"{i}. {rec}\")"
   ],
   "id": "1a79e0966a97705b",
   "outputs": [
    {
     "ename": "IndentationError",
     "evalue": "unexpected indent (4052318657.py, line 2)",
     "output_type": "error",
     "traceback": [
      "  \u001B[36mCell\u001B[39m\u001B[36m \u001B[39m\u001B[32mIn[82]\u001B[39m\u001B[32m, line 2\u001B[39m\n\u001B[31m    \u001B[39m\u001B[31mprint(\"-\" * 50)\u001B[39m\n    ^\n\u001B[31mIndentationError\u001B[39m\u001B[31m:\u001B[39m unexpected indent\n"
     ]
    }
   ],
   "execution_count": 82
  },
  {
   "metadata": {},
   "cell_type": "code",
   "outputs": [],
   "execution_count": null,
   "source": "",
   "id": "36964252ae7ed7d8"
  }
 ],
 "metadata": {
  "kernelspec": {
   "display_name": "Python 3",
   "language": "python",
   "name": "python3"
  },
  "language_info": {
   "codemirror_mode": {
    "name": "ipython",
    "version": 2
   },
   "file_extension": ".py",
   "mimetype": "text/x-python",
   "name": "python",
   "nbconvert_exporter": "python",
   "pygments_lexer": "ipython2",
   "version": "2.7.6"
  }
 },
 "nbformat": 4,
 "nbformat_minor": 5
}
